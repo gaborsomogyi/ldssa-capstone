{
 "cells": [
  {
   "cell_type": "code",
   "execution_count": 14,
   "metadata": {},
   "outputs": [],
   "source": [
    "import pickle\n",
    "import json\n",
    "\n",
    "import pandas as pd\n",
    "import numpy as np\n",
    "import category_encoders\n",
    "\n",
    "from sklearn.linear_model import LogisticRegression\n",
    "from sklearn.pipeline import Pipeline, make_pipeline\n",
    "from sklearn.externals import joblib\n",
    "\n",
    "# only dev\n",
    "from sklearn.model_selection import cross_validate\n",
    "from sklearn.metrics import mean_absolute_error"
   ]
  },
  {
   "cell_type": "code",
   "execution_count": 2,
   "metadata": {},
   "outputs": [
    {
     "data": {
      "text/plain": [
       "Pipeline(memory=None,\n",
       "     steps=[('onehotencoder', OneHotEncoder(cols=['m_or_f', 'person_attributes', 'seat', 'other_person_location', 'other_factor_1', 'other_factor_2', 'other_factor_3'],\n",
       "       drop_invariant=False, handle_unknown='impute', impute_missing=True,\n",
       "       return_df=True, use_cat_names=False, verbose=0)), ('lo...ty='l2', random_state=None, solver='liblinear', tol=0.0001,\n",
       "          verbose=0, warm_start=False))])"
      ]
     },
     "execution_count": 2,
     "metadata": {},
     "output_type": "execute_result"
    }
   ],
   "source": [
    "X_train = pd.read_csv('data/X_train.csv', na_values=['N/A or Unknown', 'unknown'])\n",
    "y_train = pd.read_csv('data/y_train.csv', names=['injury'])\n",
    "\n",
    "pipeline = make_pipeline(\n",
    "    category_encoders.OneHotEncoder(),\n",
    "    LogisticRegression(),\n",
    ")\n",
    "pipeline.fit(X_train, y_train.values.ravel())\n",
    "\n"
   ]
  },
  {
   "cell_type": "code",
   "execution_count": 11,
   "metadata": {},
   "outputs": [
    {
     "data": {
      "text/plain": [
       "array([[0.38392799, 0.61607201],\n",
       "       [0.00950265, 0.99049735],\n",
       "       [0.35764692, 0.64235308],\n",
       "       ...,\n",
       "       [0.31969188, 0.68030812],\n",
       "       [0.41521442, 0.58478558],\n",
       "       [0.40260234, 0.59739766]])"
      ]
     },
     "execution_count": 11,
     "metadata": {},
     "output_type": "execute_result"
    }
   ],
   "source": [
    "pipeline.predict_proba(X_train)"
   ]
  },
  {
   "cell_type": "markdown",
   "metadata": {},
   "source": [
    "## Export"
   ]
  },
  {
   "cell_type": "code",
   "execution_count": 3,
   "metadata": {},
   "outputs": [
    {
     "data": {
      "text/plain": [
       "['pipeline/pipeline.pickle']"
      ]
     },
     "execution_count": 3,
     "metadata": {},
     "output_type": "execute_result"
    }
   ],
   "source": [
    "with open('pipeline/columns.json', 'w') as fh:\n",
    "    json.dump(X_train.columns.tolist(), fh)\n",
    "    \n",
    "with open('pipeline/dtypes.pickle', 'wb') as fh:\n",
    "    pickle.dump(X_train.dtypes, fh)\n",
    "    \n",
    "joblib.dump(pipeline, 'pipeline/pipeline.pickle')"
   ]
  },
  {
   "cell_type": "markdown",
   "metadata": {},
   "source": [
    "## Crossvalidate"
   ]
  },
  {
   "cell_type": "code",
   "execution_count": 4,
   "metadata": {},
   "outputs": [
    {
     "data": {
      "text/plain": [
       "{'fit_time': array([0.73312545, 0.70991421, 0.69916797, 0.71180272, 0.44470477]),\n",
       " 'score_time': array([0.45597053, 0.47089839, 0.46401501, 0.44071221, 0.17825747]),\n",
       " 'test_score': array([0.61592543, 0.62495886, 0.62403097, 0.58720851, 0.60856003]),\n",
       " 'train_score': array([0.61733323, 0.61384798, 0.61454839, 0.62484153, 0.61905545])}"
      ]
     },
     "execution_count": 4,
     "metadata": {},
     "output_type": "execute_result"
    }
   ],
   "source": [
    "cross_validate(\n",
    "    pipeline, \n",
    "    X_train, y_train.values.ravel(), \n",
    "    scoring='roc_auc', n_jobs=-1, cv=5, return_train_score=True\n",
    ")"
   ]
  },
  {
   "cell_type": "markdown",
   "metadata": {},
   "source": [
    "## XGBoost"
   ]
  },
  {
   "cell_type": "code",
   "execution_count": 5,
   "metadata": {},
   "outputs": [],
   "source": [
    "import xgboost as xgb\n",
    "import numpy as np\n",
    "from sklearn.pipeline import TransformerMixin, make_pipeline\n",
    "\n",
    "from pipeline.custom_transformers import NAEncoder, ColumnDropper"
   ]
  },
  {
   "cell_type": "code",
   "execution_count": 23,
   "metadata": {},
   "outputs": [
    {
     "data": {
      "text/plain": [
       "(0.6111012639332903, 0.012417192105302857)"
      ]
     },
     "execution_count": 23,
     "metadata": {},
     "output_type": "execute_result"
    }
   ],
   "source": [
    "clf_xgb = xgb.XGBClassifier(max_depth=3, \n",
    "                             learning_rate=0.1, \n",
    "                             subsample=.95, \n",
    "                             colsample_bytree=0.25,\n",
    "                             n_estimators=200,\n",
    "                             random_state=30, \n",
    "                             min_child_weight = 2,\n",
    "                             booster = 'dart',\n",
    "                             objective='binary:logistic', \n",
    "                             base_score=np.mean(y_train.values)\n",
    "                             )\n",
    "clf_xgb = xgb.XGBClassifier(base_score=np.mean(y_train.values), booster='dart', # 0.6616844177928936\n",
    "       colsample_bylevel=1, colsample_bytree=0.55, gamma=1,\n",
    "       learning_rate=0.1, max_delta_step=0, max_depth=7,\n",
    "       min_child_weight=3, missing=None, n_estimators=100, n_jobs=1,\n",
    "       nthread=1, objective='binary:logistic', random_state=0, reg_alpha=0,\n",
    "       reg_lambda=1, scale_pos_weight=1, silent=True,\n",
    "       subsample=1)\n",
    "\n",
    "clf = make_pipeline(ColumnDropper('age_in_years'),\n",
    "                    NAEncoder(['other_person_location']),\n",
    "                    NAEncoder(['other_factor_1', 'other_factor_2', 'other_factor_3']),\n",
    "                    category_encoders.OneHotEncoder(), \n",
    "                    clf_xgb)\n",
    "\n",
    "cvx = cross_validate(\n",
    "    clf, \n",
    "    X_train, y_train.values.ravel(), \n",
    "    scoring='roc_auc', n_jobs=-1, cv=15, return_train_score=False\n",
    ")\n",
    "cvx['test_score'].mean(), cvx['test_score'].std()"
   ]
  },
  {
   "cell_type": "code",
   "execution_count": 24,
   "metadata": {},
   "outputs": [
    {
     "data": {
      "text/plain": [
       "Pipeline(memory=None,\n",
       "     steps=[('columndropper', <pipeline.custom_transformers.ColumnDropper object at 0x7f9c394d3dd8>), ('naencoder-1', <pipeline.custom_transformers.NAEncoder object at 0x7f9c394d3b70>), ('naencoder-2', <pipeline.custom_transformers.NAEncoder object at 0x7f9c394d3ba8>), ('onehotencoder', OneHotEncoder(col... reg_alpha=0,\n",
       "       reg_lambda=1, scale_pos_weight=1, seed=None, silent=True,\n",
       "       subsample=1))])"
      ]
     },
     "execution_count": 24,
     "metadata": {},
     "output_type": "execute_result"
    }
   ],
   "source": [
    "clf.fit(X_train, y_train.values.ravel())"
   ]
  },
  {
   "cell_type": "code",
   "execution_count": 25,
   "metadata": {},
   "outputs": [
    {
     "data": {
      "text/plain": [
       "array([[0.39437127, 0.6056287 ],\n",
       "       [0.0052529 , 0.9947471 ],\n",
       "       [0.34424102, 0.655759  ],\n",
       "       ...,\n",
       "       [0.34424102, 0.655759  ],\n",
       "       [0.39437127, 0.6056287 ],\n",
       "       [0.39437127, 0.6056287 ]], dtype=float32)"
      ]
     },
     "execution_count": 25,
     "metadata": {},
     "output_type": "execute_result"
    }
   ],
   "source": [
    "clf.predict_proba(X_train)"
   ]
  },
  {
   "cell_type": "code",
   "execution_count": 26,
   "metadata": {},
   "outputs": [
    {
     "data": {
      "text/plain": [
       "['pipeline/pipeline.pickle']"
      ]
     },
     "execution_count": 26,
     "metadata": {},
     "output_type": "execute_result"
    }
   ],
   "source": [
    "joblib.dump(clf, 'pipeline/pipeline.pickle')"
   ]
  },
  {
   "cell_type": "code",
   "execution_count": 10,
   "metadata": {},
   "outputs": [
    {
     "data": {
      "text/plain": [
       "array([[0.39437127, 0.6056287 ],\n",
       "       [0.0052529 , 0.9947471 ],\n",
       "       [0.34424102, 0.655759  ],\n",
       "       ...,\n",
       "       [0.34424102, 0.655759  ],\n",
       "       [0.39437127, 0.6056287 ],\n",
       "       [0.39437127, 0.6056287 ]], dtype=float32)"
      ]
     },
     "execution_count": 10,
     "metadata": {},
     "output_type": "execute_result"
    }
   ],
   "source": [
    "joblib.load('pipeline/pipeline.pickle').predict_proba(X_train)"
   ]
  },
  {
   "cell_type": "code",
   "execution_count": null,
   "metadata": {},
   "outputs": [],
   "source": [
    "clf_xgb = xgb.XGBClassifier(\n",
    "                            objective='binary:logistic',\n",
    "                             n_estimators=100,\n",
    "                             random_state=30, \n",
    "                             base_score=np.mean(y_train.values)\n",
    "                             )\n",
    "\n",
    "clf_xgb = xgb.XGBClassifier(base_score=0.6616844177928936, booster='dart',\n",
    "       colsample_bylevel=1, colsample_bytree=0.55, gamma=1,\n",
    "       learning_rate=0.1, max_delta_step=0, max_depth=7,\n",
    "       min_child_weight=3, missing=None, n_estimators=100, n_jobs=1,\n",
    "       nthread=1, objective='binary:logistic', random_state=0, reg_alpha=0,\n",
    "       reg_lambda=1, scale_pos_weight=1, seed=None, silent=True,\n",
    "       subsample=1)\n",
    "\n",
    "clf = make_pipeline(ColumnDropper('age_in_years'),\n",
    "                    NAEncoder(['other_person_location']),\n",
    "                    NAEncoder(['other_factor_1', 'other_factor_2', 'other_factor_3']),\n",
    "                    category_encoders.OneHotEncoder(), \n",
    "                    clf_xgb)\n",
    "\n",
    "cvx = cross_validate(\n",
    "    clf, \n",
    "    X_train, y_train.values.ravel(), \n",
    "    scoring='roc_auc', n_jobs=-1, cv=15, return_train_score=False\n",
    ")\n",
    "cvx['test_score'].mean(), cvx['test_score'].std()"
   ]
  },
  {
   "cell_type": "code",
   "execution_count": null,
   "metadata": {},
   "outputs": [],
   "source": [
    "clf"
   ]
  },
  {
   "cell_type": "code",
   "execution_count": 24,
   "metadata": {},
   "outputs": [
    {
     "data": {
      "text/plain": [
       "Pipeline(memory=None,\n",
       "     steps=[('columndropper', <custom_transformers.ColumnDropper object at 0x7f4d4593fd68>), ('naencoder-1', <custom_transformers.NAEncoder object at 0x7f4d4593f748>), ('naencoder-2', <custom_transformers.NAEncoder object at 0x7f4d45bbd320>), ('onehotencoder', OneHotEncoder(cols=['m_or_f', 'person_attrib...\n",
       "       reg_alpha=0, reg_lambda=1, scale_pos_weight=1, seed=None,\n",
       "       silent=True, subsample=1))])"
      ]
     },
     "execution_count": 24,
     "metadata": {},
     "output_type": "execute_result"
    }
   ],
   "source": [
    "joblib.load('pipeline/pipeline.pickle')"
   ]
  },
  {
   "cell_type": "code",
   "execution_count": 102,
   "metadata": {},
   "outputs": [
    {
     "data": {
      "text/plain": [
       "Pipeline(memory=None,\n",
       "     steps=[('columndropper', <custom_transformers.ColumnDropper object at 0x7f4d45819cc0>), ('naencoder-1', <custom_transformers.NAEncoder object at 0x7f4d45819710>), ('naencoder-2', <custom_transformers.NAEncoder object at 0x7f4d45819c88>), ('onehotencoder', OneHotEncoder(cols=['m_or_f', 'person_attrib...\n",
       "       reg_alpha=0, reg_lambda=1, scale_pos_weight=1, seed=None,\n",
       "       silent=True, subsample=1))])"
      ]
     },
     "execution_count": 102,
     "metadata": {},
     "output_type": "execute_result"
    }
   ],
   "source": [
    "clf = make_pipeline(\n",
    "            ColumnDropper('age_in_years'),\n",
    "            NAEncoder(['other_person_location']),\n",
    "            NAEncoder(['other_factor_1', 'other_factor_2', 'other_factor_3']),\n",
    "            category_encoders.OneHotEncoder(), \n",
    "            xgb.XGBClassifier(base_score=0.6616844177928936, booster='dart',\n",
    "       colsample_bylevel=1, colsample_bytree=0.55, gamma=1,\n",
    "       learning_rate=0.1, max_delta_step=0, max_depth=7,\n",
    "       min_child_weight=3, missing=None, n_estimators=100, n_jobs=1,\n",
    "       nthread=1, objective='binary:logistic', random_state=30, reg_alpha=0,\n",
    "       reg_lambda=1, scale_pos_weight=1, silent=True,\n",
    "       subsample=1),\n",
    ")\n",
    "clf.fit(X_train, y_train.values.ravel())"
   ]
  },
  {
   "cell_type": "code",
   "execution_count": 99,
   "metadata": {},
   "outputs": [
    {
     "name": "stdout",
     "output_type": "stream",
     "text": [
      "0.0\n",
      "0.0\n",
      "0.0\n",
      "0.0\n",
      "0.0\n"
     ]
    }
   ],
   "source": [
    "for x in range(5):\n",
    "    print(mean_absolute_error(clf.predict_proba(X_train), \n",
    "                              clf.predict_proba(X_train)))"
   ]
  },
  {
   "cell_type": "code",
   "execution_count": 100,
   "metadata": {},
   "outputs": [
    {
     "data": {
      "text/plain": [
       "['pipeline/pipeline.pickle']"
      ]
     },
     "execution_count": 100,
     "metadata": {},
     "output_type": "execute_result"
    }
   ],
   "source": [
    "joblib.dump(clf, 'pipeline/pipeline.pickle')"
   ]
  },
  {
   "cell_type": "code",
   "execution_count": 101,
   "metadata": {},
   "outputs": [
    {
     "name": "stdout",
     "output_type": "stream",
     "text": [
      "0.0\n",
      "0.0\n",
      "0.0\n",
      "0.0\n",
      "0.0\n",
      "0.0\n",
      "0.0\n",
      "0.0\n",
      "0.0\n",
      "0.0\n"
     ]
    }
   ],
   "source": [
    "for x in range(10):\n",
    "    print(mean_absolute_error(joblib.load('pipeline/pipeline.pickle').predict_proba(X_train), \n",
    "                                              joblib.load('pipeline/pipeline.pickle').predict_proba(X_train)))"
   ]
  },
  {
   "cell_type": "code",
   "execution_count": 46,
   "metadata": {},
   "outputs": [
    {
     "data": {
      "text/plain": [
       "0.6056287288665771"
      ]
     },
     "execution_count": 46,
     "metadata": {},
     "output_type": "execute_result"
    }
   ],
   "source": [
    "float(clf.predict_proba(X_train)[0,1])\n",
    "#clf.predict_proba(X_train)[0,1]\n"
   ]
  },
  {
   "cell_type": "code",
   "execution_count": 51,
   "metadata": {},
   "outputs": [
    {
     "ename": "ValueError",
     "evalue": "cannot convert float NaN to integer",
     "output_type": "error",
     "traceback": [
      "\u001b[0;31m---------------------------------------------------------------------------\u001b[0m",
      "\u001b[0;31mValueError\u001b[0m                                Traceback (most recent call last)",
      "\u001b[0;32m<ipython-input-51-03e21f51ddd3>\u001b[0m in \u001b[0;36m<module>\u001b[0;34m()\u001b[0m\n\u001b[0;32m----> 1\u001b[0;31m \u001b[0mint\u001b[0m\u001b[0;34m(\u001b[0m\u001b[0mnp\u001b[0m\u001b[0;34m.\u001b[0m\u001b[0mnan\u001b[0m\u001b[0;34m)\u001b[0m\u001b[0;34m\u001b[0m\u001b[0m\n\u001b[0m",
      "\u001b[0;31mValueError\u001b[0m: cannot convert float NaN to integer"
     ]
    }
   ],
   "source": [
    "int(np.nan)"
   ]
  },
  {
   "cell_type": "code",
   "execution_count": 64,
   "metadata": {},
   "outputs": [
    {
     "data": {
      "text/html": [
       "<div>\n",
       "<style scoped>\n",
       "    .dataframe tbody tr th:only-of-type {\n",
       "        vertical-align: middle;\n",
       "    }\n",
       "\n",
       "    .dataframe tbody tr th {\n",
       "        vertical-align: top;\n",
       "    }\n",
       "\n",
       "    .dataframe thead th {\n",
       "        text-align: right;\n",
       "    }\n",
       "</style>\n",
       "<table border=\"1\" class=\"dataframe\">\n",
       "  <thead>\n",
       "    <tr style=\"text-align: right;\">\n",
       "      <th></th>\n",
       "      <th>m_or_f</th>\n",
       "      <th>person_attributes</th>\n",
       "      <th>seat</th>\n",
       "      <th>other_person_location</th>\n",
       "      <th>other_factor_1</th>\n",
       "      <th>other_factor_2</th>\n",
       "      <th>other_factor_3</th>\n",
       "      <th>age_in_years</th>\n",
       "    </tr>\n",
       "  </thead>\n",
       "  <tbody>\n",
       "    <tr>\n",
       "      <th>0</th>\n",
       "      <td>m</td>\n",
       "      <td>driving</td>\n",
       "      <td>front_left</td>\n",
       "      <td>N/A</td>\n",
       "      <td>N/A</td>\n",
       "      <td>N/A</td>\n",
       "      <td>N/A</td>\n",
       "      <td>NaN</td>\n",
       "    </tr>\n",
       "  </tbody>\n",
       "</table>\n",
       "</div>"
      ],
      "text/plain": [
       "  m_or_f person_attributes        seat other_person_location other_factor_1  \\\n",
       "0      m           driving  front_left                   N/A            N/A   \n",
       "\n",
       "  other_factor_2 other_factor_3  age_in_years  \n",
       "0            N/A            N/A           NaN  "
      ]
     },
     "execution_count": 64,
     "metadata": {},
     "output_type": "execute_result"
    }
   ],
   "source": [
    "observation =  {\"m_or_f\": \"m\", \"person_attributes\": \"driving\", \"seat\": \"front_left\",\n",
    "                    \"other_person_location\": \"N/A\", \"other_factor_1\": \"N/A\", \"other_factor_2\": \"N/A\", \n",
    "                \"other_factor_3\": \"N/A\", \"age_in_years\": np.nan\n",
    "               }\n",
    "dtypes = X_train.dtypes.apply(lambda x: float if x == int else x)\n",
    "pd.DataFrame([observation], columns=X_train.columns).astype(dtypes)"
   ]
  },
  {
   "cell_type": "code",
   "execution_count": 66,
   "metadata": {},
   "outputs": [
    {
     "ename": "AttributeError",
     "evalue": "'str' object has no attribute 'astype'",
     "output_type": "error",
     "traceback": [
      "\u001b[0;31m---------------------------------------------------------------------------\u001b[0m",
      "\u001b[0;31mAttributeError\u001b[0m                            Traceback (most recent call last)",
      "\u001b[0;32m<ipython-input-66-5642da583b13>\u001b[0m in \u001b[0;36m<module>\u001b[0;34m()\u001b[0m\n\u001b[1;32m      1\u001b[0m \u001b[0;32mfor\u001b[0m \u001b[0mobs\u001b[0m \u001b[0;32min\u001b[0m \u001b[0mobservation\u001b[0m\u001b[0;34m:\u001b[0m\u001b[0;34m\u001b[0m\u001b[0m\n\u001b[0;32m----> 2\u001b[0;31m     \u001b[0mobs_conv\u001b[0m \u001b[0;34m=\u001b[0m \u001b[0mobs\u001b[0m\u001b[0;34m.\u001b[0m\u001b[0mastype\u001b[0m\u001b[0;34m(\u001b[0m\u001b[0mstr\u001b[0m\u001b[0;34m)\u001b[0m\u001b[0;34m\u001b[0m\u001b[0m\n\u001b[0m",
      "\u001b[0;31mAttributeError\u001b[0m: 'str' object has no attribute 'astype'"
     ]
    }
   ],
   "source": [
    "for obs in observation:\n",
    "    obs_conv = obs.astype(str)"
   ]
  },
  {
   "cell_type": "code",
   "execution_count": null,
   "metadata": {},
   "outputs": [],
   "source": []
  }
 ],
 "metadata": {
  "kernelspec": {
   "display_name": "Python 3",
   "language": "python",
   "name": "python3"
  },
  "language_info": {
   "codemirror_mode": {
    "name": "ipython",
    "version": 3
   },
   "file_extension": ".py",
   "mimetype": "text/x-python",
   "name": "python",
   "nbconvert_exporter": "python",
   "pygments_lexer": "ipython3",
   "version": "3.6.6"
  }
 },
 "nbformat": 4,
 "nbformat_minor": 2
}
