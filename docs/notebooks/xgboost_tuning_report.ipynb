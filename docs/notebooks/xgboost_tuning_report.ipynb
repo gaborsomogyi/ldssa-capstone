{
 "cells": [
  {
   "cell_type": "code",
   "execution_count": null,
   "metadata": {},
   "outputs": [],
   "source": [
    "import pandas as pd\n",
    "import category_encoders\n",
    "import numpy as np\n",
    "from datetime import datetime\n",
    "import warnings\n",
    "warnings.filterwarnings('ignore')\n",
    "\n",
    "from sklearn.pipeline import Pipeline, make_pipeline\n",
    "from sklearn.model_selection import cross_validate, GridSearchCV, StratifiedKFold\n",
    "from xgboost import XGBClassifier\n",
    "\n",
    "from pipeline.custom_transformers import NAEncoder, ColumnDropper"
   ]
  },
  {
   "cell_type": "code",
   "execution_count": null,
   "metadata": {},
   "outputs": [],
   "source": [
    "X_train = pd.read_csv('data/X_train.csv', na_values=['N/A or Unknown', 'unknown'])\n",
    "y_train = pd.read_csv('data/y_train.csv', names=['injury'])"
   ]
  },
  {
   "cell_type": "code",
   "execution_count": null,
   "metadata": {},
   "outputs": [],
   "source": [
    "def timer(start_time=None):\n",
    "    if not start_time:\n",
    "        start_time = datetime.now()\n",
    "        return start_time\n",
    "    elif start_time:\n",
    "        thour, temp_sec = divmod((datetime.now() - start_time).total_seconds(), 3600)\n",
    "        tmin, tsec = divmod(temp_sec, 60)\n",
    "        print('\\n Time taken: %i hours %i minutes and %s seconds.' % (thour, tmin, round(tsec, 2)))"
   ]
  },
  {
   "cell_type": "code",
   "execution_count": null,
   "metadata": {},
   "outputs": [],
   "source": [
    "X = make_pipeline(\n",
    "        NAEncoder(['other_person_location']),\n",
    "        NAEncoder(['other_factor_1', 'other_factor_2', 'other_factor_3']),\n",
    "        ColumnDropper('age_in_years'),\n",
    "        category_encoders.OneHotEncoder(impute_missing=False),\n",
    "    ).fit_transform(X_train)\n",
    "y = y_train\n",
    "\n",
    "params = {\n",
    "        'min_child_weight': [1, 2, 3, 5, 10],\n",
    "        'gamma': [0.5, 1, 1.5, 2, 5],\n",
    "        'subsample': [0.8, 0.85, 0.9, 0.95, 1],\n",
    "        'colsample_bytree': [0.25, 0.3, 0.35, 0.4, 0.45, 0.5, 0.55, 0.6, 0.8, 1.0],\n",
    "        'booster': ['dart', 'gbtree'],\n",
    "        'learning_rate': [0.1, 0.05, 0.005]\n",
    "        }\n",
    "\n",
    "folds = 3\n",
    "\n",
    "skf = StratifiedKFold(n_splits=folds, shuffle = True, random_state = 30)\n",
    "\n",
    "clf = XGBClassifier(\n",
    "    n_estimators=100, \n",
    "    objective='binary:logistic', \n",
    "    max_depth=7, \n",
    "    base_score=np.mean(y_train.values),\n",
    "    silent=True, \n",
    "    nthread=1\n",
    ")\n",
    "\n",
    "random_search = GridSearchCV(\n",
    "    clf,\n",
    "    param_grid=params,\n",
    "    scoring='roc_auc', \n",
    "    n_jobs=4, \n",
    "    cv=skf.split(X,y), \n",
    "    verbose=3,\n",
    ")\n",
    "\n",
    "# Running the GridSearch, takes about 5 hours\n",
    "start_time = timer(None) # timing starts from this point for \"start_time\" variable\n",
    "random_search.fit(X, y)\n",
    "timer(start_time)\n",
    "\n",
    "print(random_search.best_score_)\n",
    "print(random_search.best_estimator_)"
   ]
  },
  {
   "cell_type": "code",
   "execution_count": null,
   "metadata": {},
   "outputs": [],
   "source": []
  }
 ],
 "metadata": {
  "kernelspec": {
   "display_name": "Python 3",
   "language": "python",
   "name": "python3"
  },
  "language_info": {
   "codemirror_mode": {
    "name": "ipython",
    "version": 3
   },
   "file_extension": ".py",
   "mimetype": "text/x-python",
   "name": "python",
   "nbconvert_exporter": "python",
   "pygments_lexer": "ipython3",
   "version": "3.6.6"
  }
 },
 "nbformat": 4,
 "nbformat_minor": 2
}
