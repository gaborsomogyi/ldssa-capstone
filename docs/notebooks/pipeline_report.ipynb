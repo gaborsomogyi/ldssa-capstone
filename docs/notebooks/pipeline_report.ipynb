{
 "cells": [
  {
   "cell_type": "markdown",
   "metadata": {},
   "source": [
    "## Imports"
   ]
  },
  {
   "cell_type": "code",
   "execution_count": null,
   "metadata": {},
   "outputs": [],
   "source": [
    "import pickle\n",
    "import json\n",
    "\n",
    "import pandas as pd\n",
    "import numpy as np\n",
    "import category_encoders\n",
    "from xgboost import XGBClassifier\n",
    "\n",
    "from sklearn.linear_model import LogisticRegression\n",
    "from sklearn.pipeline import Pipeline, make_pipeline\n",
    "from sklearn.externals import joblib\n",
    "from sklearn.model_selection import cross_validate\n",
    "\n",
    "from pipeline.custom_transformers import NAEncoder, ColumnDropper"
   ]
  },
  {
   "cell_type": "markdown",
   "metadata": {},
   "source": [
    "## Data handling"
   ]
  },
  {
   "cell_type": "code",
   "execution_count": null,
   "metadata": {},
   "outputs": [],
   "source": [
    "X_train = pd.read_csv('data/X_train.csv', na_values=['N/A or Unknown', 'unknown'])\n",
    "y_train = pd.read_csv('data/y_train.csv', names=['injury'])"
   ]
  },
  {
   "cell_type": "code",
   "execution_count": null,
   "metadata": {},
   "outputs": [],
   "source": [
    "with open('pipeline/columns.json', 'w') as fh:\n",
    "    json.dump(X_train.columns.tolist(), fh)\n",
    "    \n",
    "with open('pipeline/dtypes.pickle', 'wb') as fh:\n",
    "    pickle.dump(X_train.dtypes, fh)"
   ]
  },
  {
   "cell_type": "markdown",
   "metadata": {},
   "source": [
    "## Baseline"
   ]
  },
  {
   "cell_type": "code",
   "execution_count": null,
   "metadata": {},
   "outputs": [],
   "source": [
    "pipeline = make_pipeline(\n",
    "    category_encoders.OneHotEncoder(),\n",
    "    LogisticRegression(),\n",
    ")\n",
    "\n",
    "pipeline.fit(X_train, y_train.values.ravel())\n",
    "    \n",
    "joblib.dump(pipeline, 'pipeline/pipeline.pickle')"
   ]
  },
  {
   "cell_type": "markdown",
   "metadata": {},
   "source": [
    "## Final pipeline"
   ]
  },
  {
   "cell_type": "code",
   "execution_count": null,
   "metadata": {},
   "outputs": [],
   "source": [
    "pipeline = make_pipeline(\n",
    "    ColumnDropper('age_in_years'),\n",
    "    NAEncoder(['other_person_location']),\n",
    "    NAEncoder(['other_factor_1', 'other_factor_2', 'other_factor_3']),\n",
    "    category_encoders.OneHotEncoder(), \n",
    "    XGBClassifier(base_score=np.mean(y_train.values), booster='dart',\n",
    "       colsample_bylevel=1, colsample_bytree=0.55, gamma=1,\n",
    "       learning_rate=0.1, max_delta_step=0, max_depth=7,\n",
    "       min_child_weight=3, missing=None, n_estimators=100, n_jobs=1,\n",
    "       nthread=1, objective='binary:logistic', random_state=0, reg_alpha=0,\n",
    "       reg_lambda=1, scale_pos_weight=1, silent=True,\n",
    "       subsample=1\n",
    "    )\n",
    ")\n",
    "\n",
    "pipeline.fit(X_train, y_train.values.ravel())\n",
    "\n",
    "joblib.dump(pipeline, 'pipeline/pipeline.pickle')"
   ]
  }
 ],
 "metadata": {
  "kernelspec": {
   "display_name": "Python 3",
   "language": "python",
   "name": "python3"
  },
  "language_info": {
   "codemirror_mode": {
    "name": "ipython",
    "version": 3
   },
   "file_extension": ".py",
   "mimetype": "text/x-python",
   "name": "python",
   "nbconvert_exporter": "python",
   "pygments_lexer": "ipython3",
   "version": "3.6.6"
  }
 },
 "nbformat": 4,
 "nbformat_minor": 2
}
